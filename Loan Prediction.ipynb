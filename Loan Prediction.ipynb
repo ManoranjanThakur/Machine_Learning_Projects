{
 "cells": [
  {
   "cell_type": "code",
   "execution_count": 1,
   "id": "amateur-cache",
   "metadata": {
    "_cell_guid": "b1076dfc-b9ad-4769-8c92-a6c4dae69d19",
    "_uuid": "8f2839f25d086af736a60e9eeb907d3b93b6e0e5",
    "execution": {
     "iopub.execute_input": "2021-04-05T10:30:58.219094Z",
     "iopub.status.busy": "2021-04-05T10:30:58.218157Z",
     "iopub.status.idle": "2021-04-05T10:30:58.236031Z",
     "shell.execute_reply": "2021-04-05T10:30:58.236655Z"
    },
    "papermill": {
     "duration": 0.060818,
     "end_time": "2021-04-05T10:30:58.237021",
     "exception": false,
     "start_time": "2021-04-05T10:30:58.176203",
     "status": "completed"
    },
    "tags": []
   },
   "outputs": [
    {
     "name": "stdout",
     "output_type": "stream",
     "text": [
      "/kaggle/input/loan-prediction-problem-dataset/test_Y3wMUE5_7gLdaTN.csv\n",
      "/kaggle/input/loan-prediction-problem-dataset/train_u6lujuX_CVtuZ9i.csv\n"
     ]
    }
   ],
   "source": [
    "# This Python 3 environment comes with many helpful analytics libraries installed\n",
    "# It is defined by the kaggle/python Docker image: https://github.com/kaggle/docker-python\n",
    "# For example, here's several helpful packages to load\n",
    "\n",
    "import numpy as np # linear algebra\n",
    "import pandas as pd # data processing, CSV file I/O (e.g. pd.read_csv)\n",
    "\n",
    "# Input data files are available in the read-only \"../input/\" directory\n",
    "# For example, running this (by clicking run or pressing Shift+Enter) will list all files under the input directory\n",
    "\n",
    "import os\n",
    "for dirname, _, filenames in os.walk('/kaggle/input'):\n",
    "    for filename in filenames:\n",
    "        print(os.path.join(dirname, filename))\n",
    "\n",
    "# You can write up to 20GB to the current directory (/kaggle/working/) that gets preserved as output when you create a version using \"Save & Run All\" \n",
    "# You can also write temporary files to /kaggle/temp/, but they won't be saved outside of the current session"
   ]
  },
  {
   "cell_type": "code",
   "execution_count": 2,
   "id": "broken-humanity",
   "metadata": {
    "execution": {
     "iopub.execute_input": "2021-04-05T10:30:58.313024Z",
     "iopub.status.busy": "2021-04-05T10:30:58.312048Z",
     "iopub.status.idle": "2021-04-05T10:30:59.521450Z",
     "shell.execute_reply": "2021-04-05T10:30:59.520804Z"
    },
    "papermill": {
     "duration": 1.247113,
     "end_time": "2021-04-05T10:30:59.521633",
     "exception": false,
     "start_time": "2021-04-05T10:30:58.274520",
     "status": "completed"
    },
    "tags": []
   },
   "outputs": [],
   "source": [
    "import pandas as pd\n",
    "import numpy as np\n",
    "import seaborn as sns\n",
    "import matplotlib as plt\n",
    "%matplotlib inline"
   ]
  },
  {
   "cell_type": "markdown",
   "id": "monthly-poland",
   "metadata": {
    "papermill": {
     "duration": 0.034768,
     "end_time": "2021-04-05T10:30:59.592480",
     "exception": false,
     "start_time": "2021-04-05T10:30:59.557712",
     "status": "completed"
    },
    "tags": []
   },
   "source": [
    "## Loading the dataset "
   ]
  },
  {
   "cell_type": "code",
   "execution_count": 3,
   "id": "approximate-geometry",
   "metadata": {
    "execution": {
     "iopub.execute_input": "2021-04-05T10:30:59.669620Z",
     "iopub.status.busy": "2021-04-05T10:30:59.668721Z",
     "iopub.status.idle": "2021-04-05T10:30:59.731690Z",
     "shell.execute_reply": "2021-04-05T10:30:59.730938Z"
    },
    "papermill": {
     "duration": 0.10484,
     "end_time": "2021-04-05T10:30:59.731871",
     "exception": false,
     "start_time": "2021-04-05T10:30:59.627031",
     "status": "completed"
    },
    "tags": []
   },
   "outputs": [
    {
     "data": {
      "text/html": [
       "<div>\n",
       "<style scoped>\n",
       "    .dataframe tbody tr th:only-of-type {\n",
       "        vertical-align: middle;\n",
       "    }\n",
       "\n",
       "    .dataframe tbody tr th {\n",
       "        vertical-align: top;\n",
       "    }\n",
       "\n",
       "    .dataframe thead th {\n",
       "        text-align: right;\n",
       "    }\n",
       "</style>\n",
       "<table border=\"1\" class=\"dataframe\">\n",
       "  <thead>\n",
       "    <tr style=\"text-align: right;\">\n",
       "      <th></th>\n",
       "      <th>Loan_ID</th>\n",
       "      <th>Gender</th>\n",
       "      <th>Married</th>\n",
       "      <th>Dependents</th>\n",
       "      <th>Education</th>\n",
       "      <th>Self_Employed</th>\n",
       "      <th>ApplicantIncome</th>\n",
       "      <th>CoapplicantIncome</th>\n",
       "      <th>LoanAmount</th>\n",
       "      <th>Loan_Amount_Term</th>\n",
       "      <th>Credit_History</th>\n",
       "      <th>Property_Area</th>\n",
       "      <th>Loan_Status</th>\n",
       "    </tr>\n",
       "  </thead>\n",
       "  <tbody>\n",
       "    <tr>\n",
       "      <th>0</th>\n",
       "      <td>LP001002</td>\n",
       "      <td>Male</td>\n",
       "      <td>No</td>\n",
       "      <td>0</td>\n",
       "      <td>Graduate</td>\n",
       "      <td>No</td>\n",
       "      <td>5849</td>\n",
       "      <td>0.0</td>\n",
       "      <td>NaN</td>\n",
       "      <td>360.0</td>\n",
       "      <td>1.0</td>\n",
       "      <td>Urban</td>\n",
       "      <td>Y</td>\n",
       "    </tr>\n",
       "    <tr>\n",
       "      <th>1</th>\n",
       "      <td>LP001003</td>\n",
       "      <td>Male</td>\n",
       "      <td>Yes</td>\n",
       "      <td>1</td>\n",
       "      <td>Graduate</td>\n",
       "      <td>No</td>\n",
       "      <td>4583</td>\n",
       "      <td>1508.0</td>\n",
       "      <td>128.0</td>\n",
       "      <td>360.0</td>\n",
       "      <td>1.0</td>\n",
       "      <td>Rural</td>\n",
       "      <td>N</td>\n",
       "    </tr>\n",
       "    <tr>\n",
       "      <th>2</th>\n",
       "      <td>LP001005</td>\n",
       "      <td>Male</td>\n",
       "      <td>Yes</td>\n",
       "      <td>0</td>\n",
       "      <td>Graduate</td>\n",
       "      <td>Yes</td>\n",
       "      <td>3000</td>\n",
       "      <td>0.0</td>\n",
       "      <td>66.0</td>\n",
       "      <td>360.0</td>\n",
       "      <td>1.0</td>\n",
       "      <td>Urban</td>\n",
       "      <td>Y</td>\n",
       "    </tr>\n",
       "    <tr>\n",
       "      <th>3</th>\n",
       "      <td>LP001006</td>\n",
       "      <td>Male</td>\n",
       "      <td>Yes</td>\n",
       "      <td>0</td>\n",
       "      <td>Not Graduate</td>\n",
       "      <td>No</td>\n",
       "      <td>2583</td>\n",
       "      <td>2358.0</td>\n",
       "      <td>120.0</td>\n",
       "      <td>360.0</td>\n",
       "      <td>1.0</td>\n",
       "      <td>Urban</td>\n",
       "      <td>Y</td>\n",
       "    </tr>\n",
       "    <tr>\n",
       "      <th>4</th>\n",
       "      <td>LP001008</td>\n",
       "      <td>Male</td>\n",
       "      <td>No</td>\n",
       "      <td>0</td>\n",
       "      <td>Graduate</td>\n",
       "      <td>No</td>\n",
       "      <td>6000</td>\n",
       "      <td>0.0</td>\n",
       "      <td>141.0</td>\n",
       "      <td>360.0</td>\n",
       "      <td>1.0</td>\n",
       "      <td>Urban</td>\n",
       "      <td>Y</td>\n",
       "    </tr>\n",
       "  </tbody>\n",
       "</table>\n",
       "</div>"
      ],
      "text/plain": [
       "    Loan_ID Gender Married Dependents     Education Self_Employed  \\\n",
       "0  LP001002   Male      No          0      Graduate            No   \n",
       "1  LP001003   Male     Yes          1      Graduate            No   \n",
       "2  LP001005   Male     Yes          0      Graduate           Yes   \n",
       "3  LP001006   Male     Yes          0  Not Graduate            No   \n",
       "4  LP001008   Male      No          0      Graduate            No   \n",
       "\n",
       "   ApplicantIncome  CoapplicantIncome  LoanAmount  Loan_Amount_Term  \\\n",
       "0             5849                0.0         NaN             360.0   \n",
       "1             4583             1508.0       128.0             360.0   \n",
       "2             3000                0.0        66.0             360.0   \n",
       "3             2583             2358.0       120.0             360.0   \n",
       "4             6000                0.0       141.0             360.0   \n",
       "\n",
       "   Credit_History Property_Area Loan_Status  \n",
       "0             1.0         Urban           Y  \n",
       "1             1.0         Rural           N  \n",
       "2             1.0         Urban           Y  \n",
       "3             1.0         Urban           Y  \n",
       "4             1.0         Urban           Y  "
      ]
     },
     "execution_count": 3,
     "metadata": {},
     "output_type": "execute_result"
    }
   ],
   "source": [
    "df = pd.read_csv(\"/kaggle/input/loan-prediction-problem-dataset/train_u6lujuX_CVtuZ9i.csv\")\n",
    "df.head()"
   ]
  },
  {
   "cell_type": "code",
   "execution_count": 4,
   "id": "parental-alexandria",
   "metadata": {
    "execution": {
     "iopub.execute_input": "2021-04-05T10:30:59.815100Z",
     "iopub.status.busy": "2021-04-05T10:30:59.809418Z",
     "iopub.status.idle": "2021-04-05T10:30:59.842395Z",
     "shell.execute_reply": "2021-04-05T10:30:59.841803Z"
    },
    "papermill": {
     "duration": 0.075376,
     "end_time": "2021-04-05T10:30:59.842568",
     "exception": false,
     "start_time": "2021-04-05T10:30:59.767192",
     "status": "completed"
    },
    "tags": []
   },
   "outputs": [
    {
     "data": {
      "text/html": [
       "<div>\n",
       "<style scoped>\n",
       "    .dataframe tbody tr th:only-of-type {\n",
       "        vertical-align: middle;\n",
       "    }\n",
       "\n",
       "    .dataframe tbody tr th {\n",
       "        vertical-align: top;\n",
       "    }\n",
       "\n",
       "    .dataframe thead th {\n",
       "        text-align: right;\n",
       "    }\n",
       "</style>\n",
       "<table border=\"1\" class=\"dataframe\">\n",
       "  <thead>\n",
       "    <tr style=\"text-align: right;\">\n",
       "      <th></th>\n",
       "      <th>ApplicantIncome</th>\n",
       "      <th>CoapplicantIncome</th>\n",
       "      <th>LoanAmount</th>\n",
       "      <th>Loan_Amount_Term</th>\n",
       "      <th>Credit_History</th>\n",
       "    </tr>\n",
       "  </thead>\n",
       "  <tbody>\n",
       "    <tr>\n",
       "      <th>count</th>\n",
       "      <td>614.000000</td>\n",
       "      <td>614.000000</td>\n",
       "      <td>592.000000</td>\n",
       "      <td>600.00000</td>\n",
       "      <td>564.000000</td>\n",
       "    </tr>\n",
       "    <tr>\n",
       "      <th>mean</th>\n",
       "      <td>5403.459283</td>\n",
       "      <td>1621.245798</td>\n",
       "      <td>146.412162</td>\n",
       "      <td>342.00000</td>\n",
       "      <td>0.842199</td>\n",
       "    </tr>\n",
       "    <tr>\n",
       "      <th>std</th>\n",
       "      <td>6109.041673</td>\n",
       "      <td>2926.248369</td>\n",
       "      <td>85.587325</td>\n",
       "      <td>65.12041</td>\n",
       "      <td>0.364878</td>\n",
       "    </tr>\n",
       "    <tr>\n",
       "      <th>min</th>\n",
       "      <td>150.000000</td>\n",
       "      <td>0.000000</td>\n",
       "      <td>9.000000</td>\n",
       "      <td>12.00000</td>\n",
       "      <td>0.000000</td>\n",
       "    </tr>\n",
       "    <tr>\n",
       "      <th>25%</th>\n",
       "      <td>2877.500000</td>\n",
       "      <td>0.000000</td>\n",
       "      <td>100.000000</td>\n",
       "      <td>360.00000</td>\n",
       "      <td>1.000000</td>\n",
       "    </tr>\n",
       "    <tr>\n",
       "      <th>50%</th>\n",
       "      <td>3812.500000</td>\n",
       "      <td>1188.500000</td>\n",
       "      <td>128.000000</td>\n",
       "      <td>360.00000</td>\n",
       "      <td>1.000000</td>\n",
       "    </tr>\n",
       "    <tr>\n",
       "      <th>75%</th>\n",
       "      <td>5795.000000</td>\n",
       "      <td>2297.250000</td>\n",
       "      <td>168.000000</td>\n",
       "      <td>360.00000</td>\n",
       "      <td>1.000000</td>\n",
       "    </tr>\n",
       "    <tr>\n",
       "      <th>max</th>\n",
       "      <td>81000.000000</td>\n",
       "      <td>41667.000000</td>\n",
       "      <td>700.000000</td>\n",
       "      <td>480.00000</td>\n",
       "      <td>1.000000</td>\n",
       "    </tr>\n",
       "  </tbody>\n",
       "</table>\n",
       "</div>"
      ],
      "text/plain": [
       "       ApplicantIncome  CoapplicantIncome  LoanAmount  Loan_Amount_Term  \\\n",
       "count       614.000000         614.000000  592.000000         600.00000   \n",
       "mean       5403.459283        1621.245798  146.412162         342.00000   \n",
       "std        6109.041673        2926.248369   85.587325          65.12041   \n",
       "min         150.000000           0.000000    9.000000          12.00000   \n",
       "25%        2877.500000           0.000000  100.000000         360.00000   \n",
       "50%        3812.500000        1188.500000  128.000000         360.00000   \n",
       "75%        5795.000000        2297.250000  168.000000         360.00000   \n",
       "max       81000.000000       41667.000000  700.000000         480.00000   \n",
       "\n",
       "       Credit_History  \n",
       "count      564.000000  \n",
       "mean         0.842199  \n",
       "std          0.364878  \n",
       "min          0.000000  \n",
       "25%          1.000000  \n",
       "50%          1.000000  \n",
       "75%          1.000000  \n",
       "max          1.000000  "
      ]
     },
     "execution_count": 4,
     "metadata": {},
     "output_type": "execute_result"
    }
   ],
   "source": [
    "df.describe()"
   ]
  },
  {
   "cell_type": "code",
   "execution_count": 5,
   "id": "forward-workshop",
   "metadata": {
    "execution": {
     "iopub.execute_input": "2021-04-05T10:30:59.940038Z",
     "iopub.status.busy": "2021-04-05T10:30:59.939126Z",
     "iopub.status.idle": "2021-04-05T10:30:59.943725Z",
     "shell.execute_reply": "2021-04-05T10:30:59.943116Z"
    },
    "papermill": {
     "duration": 0.064251,
     "end_time": "2021-04-05T10:30:59.943884",
     "exception": false,
     "start_time": "2021-04-05T10:30:59.879633",
     "status": "completed"
    },
    "tags": []
   },
   "outputs": [
    {
     "name": "stdout",
     "output_type": "stream",
     "text": [
      "<class 'pandas.core.frame.DataFrame'>\n",
      "RangeIndex: 614 entries, 0 to 613\n",
      "Data columns (total 13 columns):\n",
      " #   Column             Non-Null Count  Dtype  \n",
      "---  ------             --------------  -----  \n",
      " 0   Loan_ID            614 non-null    object \n",
      " 1   Gender             601 non-null    object \n",
      " 2   Married            611 non-null    object \n",
      " 3   Dependents         599 non-null    object \n",
      " 4   Education          614 non-null    object \n",
      " 5   Self_Employed      582 non-null    object \n",
      " 6   ApplicantIncome    614 non-null    int64  \n",
      " 7   CoapplicantIncome  614 non-null    float64\n",
      " 8   LoanAmount         592 non-null    float64\n",
      " 9   Loan_Amount_Term   600 non-null    float64\n",
      " 10  Credit_History     564 non-null    float64\n",
      " 11  Property_Area      614 non-null    object \n",
      " 12  Loan_Status        614 non-null    object \n",
      "dtypes: float64(4), int64(1), object(8)\n",
      "memory usage: 62.5+ KB\n"
     ]
    }
   ],
   "source": [
    "df.info()"
   ]
  },
  {
   "cell_type": "markdown",
   "id": "endless-raise",
   "metadata": {
    "papermill": {
     "duration": 0.039039,
     "end_time": "2021-04-05T10:31:00.020452",
     "exception": false,
     "start_time": "2021-04-05T10:30:59.981413",
     "status": "completed"
    },
    "tags": []
   },
   "source": [
    "## Preprocessing of Dataset"
   ]
  },
  {
   "cell_type": "code",
   "execution_count": 6,
   "id": "challenging-journalist",
   "metadata": {
    "execution": {
     "iopub.execute_input": "2021-04-05T10:31:00.106367Z",
     "iopub.status.busy": "2021-04-05T10:31:00.105445Z",
     "iopub.status.idle": "2021-04-05T10:31:00.110477Z",
     "shell.execute_reply": "2021-04-05T10:31:00.109677Z"
    },
    "papermill": {
     "duration": 0.053578,
     "end_time": "2021-04-05T10:31:00.110651",
     "exception": false,
     "start_time": "2021-04-05T10:31:00.057073",
     "status": "completed"
    },
    "tags": []
   },
   "outputs": [
    {
     "data": {
      "text/plain": [
       "Loan_ID               0\n",
       "Gender               13\n",
       "Married               3\n",
       "Dependents           15\n",
       "Education             0\n",
       "Self_Employed        32\n",
       "ApplicantIncome       0\n",
       "CoapplicantIncome     0\n",
       "LoanAmount           22\n",
       "Loan_Amount_Term     14\n",
       "Credit_History       50\n",
       "Property_Area         0\n",
       "Loan_Status           0\n",
       "dtype: int64"
      ]
     },
     "execution_count": 6,
     "metadata": {},
     "output_type": "execute_result"
    }
   ],
   "source": [
    "# find the null values\n",
    "\n",
    "df.isnull().sum()"
   ]
  },
  {
   "cell_type": "code",
   "execution_count": 7,
   "id": "convertible-fourth",
   "metadata": {
    "execution": {
     "iopub.execute_input": "2021-04-05T10:31:00.194075Z",
     "iopub.status.busy": "2021-04-05T10:31:00.193214Z",
     "iopub.status.idle": "2021-04-05T10:31:00.197549Z",
     "shell.execute_reply": "2021-04-05T10:31:00.196866Z"
    },
    "papermill": {
     "duration": 0.050076,
     "end_time": "2021-04-05T10:31:00.197712",
     "exception": false,
     "start_time": "2021-04-05T10:31:00.147636",
     "status": "completed"
    },
    "tags": []
   },
   "outputs": [],
   "source": [
    "# fill the missing values for numerical terms - mean\n",
    "df['LoanAmount']=df['LoanAmount'].fillna(df['LoanAmount'].mean())\n",
    "df['Loan_Amount_Term']=df['Loan_Amount_Term'].fillna(df['Loan_Amount_Term'].mean())\n",
    "df['Credit_History']=df['Credit_History'].fillna(df['Credit_History'].mean())"
   ]
  },
  {
   "cell_type": "code",
   "execution_count": 8,
   "id": "selective-liabilities",
   "metadata": {
    "execution": {
     "iopub.execute_input": "2021-04-05T10:31:00.289431Z",
     "iopub.status.busy": "2021-04-05T10:31:00.288377Z",
     "iopub.status.idle": "2021-04-05T10:31:00.290760Z",
     "shell.execute_reply": "2021-04-05T10:31:00.290132Z"
    },
    "papermill": {
     "duration": 0.053992,
     "end_time": "2021-04-05T10:31:00.290914",
     "exception": false,
     "start_time": "2021-04-05T10:31:00.236922",
     "status": "completed"
    },
    "tags": []
   },
   "outputs": [],
   "source": [
    "# fill the missing values for categorical terms - mode\n",
    "df['Gender']=df['Gender'].fillna(df['Gender'].mode()[0])\n",
    "df['Married']=df['Married'].fillna(df['Married'].mode()[0])\n",
    "df['Dependents']=df['Dependents'].fillna(df['Dependents'].mode()[0])\n",
    "df['Self_Employed']=df['Self_Employed'].fillna(df['Self_Employed'].mode()[0])"
   ]
  },
  {
   "cell_type": "code",
   "execution_count": 9,
   "id": "pharmaceutical-canberra",
   "metadata": {
    "execution": {
     "iopub.execute_input": "2021-04-05T10:31:00.374848Z",
     "iopub.status.busy": "2021-04-05T10:31:00.373349Z",
     "iopub.status.idle": "2021-04-05T10:31:00.381649Z",
     "shell.execute_reply": "2021-04-05T10:31:00.381030Z"
    },
    "papermill": {
     "duration": 0.053822,
     "end_time": "2021-04-05T10:31:00.381807",
     "exception": false,
     "start_time": "2021-04-05T10:31:00.327985",
     "status": "completed"
    },
    "tags": []
   },
   "outputs": [
    {
     "data": {
      "text/plain": [
       "Loan_ID              0\n",
       "Gender               0\n",
       "Married              0\n",
       "Dependents           0\n",
       "Education            0\n",
       "Self_Employed        0\n",
       "ApplicantIncome      0\n",
       "CoapplicantIncome    0\n",
       "LoanAmount           0\n",
       "Loan_Amount_Term     0\n",
       "Credit_History       0\n",
       "Property_Area        0\n",
       "Loan_Status          0\n",
       "dtype: int64"
      ]
     },
     "execution_count": 9,
     "metadata": {},
     "output_type": "execute_result"
    }
   ],
   "source": [
    "df.isnull().sum()"
   ]
  },
  {
   "cell_type": "markdown",
   "id": "sticky-shopping",
   "metadata": {
    "papermill": {
     "duration": 0.038588,
     "end_time": "2021-04-05T10:31:00.458768",
     "exception": false,
     "start_time": "2021-04-05T10:31:00.420180",
     "status": "completed"
    },
    "tags": []
   },
   "source": [
    "## Exploratory Data Analysis"
   ]
  },
  {
   "cell_type": "markdown",
   "id": "naked-cartoon",
   "metadata": {
    "papermill": {
     "duration": 0.039117,
     "end_time": "2021-04-05T10:31:00.535492",
     "exception": false,
     "start_time": "2021-04-05T10:31:00.496375",
     "status": "completed"
    },
    "tags": []
   },
   "source": [
    "### Categorical Attributes Visualization"
   ]
  },
  {
   "cell_type": "code",
   "execution_count": 10,
   "id": "posted-security",
   "metadata": {
    "execution": {
     "iopub.execute_input": "2021-04-05T10:31:00.621120Z",
     "iopub.status.busy": "2021-04-05T10:31:00.620130Z",
     "iopub.status.idle": "2021-04-05T10:31:00.780264Z",
     "shell.execute_reply": "2021-04-05T10:31:00.780834Z"
    },
    "papermill": {
     "duration": 0.205867,
     "end_time": "2021-04-05T10:31:00.781132",
     "exception": false,
     "start_time": "2021-04-05T10:31:00.575265",
     "status": "completed"
    },
    "tags": []
   },
   "outputs": [
    {
     "name": "stderr",
     "output_type": "stream",
     "text": [
      "/opt/conda/lib/python3.7/site-packages/seaborn/_decorators.py:43: FutureWarning: Pass the following variable as a keyword arg: x. From version 0.12, the only valid positional argument will be `data`, and passing other arguments without an explicit keyword will result in an error or misinterpretation.\n",
      "  FutureWarning\n"
     ]
    },
    {
     "data": {
      "text/plain": [
       "<AxesSubplot:xlabel='Gender', ylabel='count'>"
      ]
     },
     "execution_count": 10,
     "metadata": {},
     "output_type": "execute_result"
    },
    {
     "data": {
      "image/png": "[encoded data removed]",
      "text/plain": [
       "<Figure size 432x288 with 1 Axes>"
      ]
     },
     "metadata": {
      "needs_background": "light"
     },
     "output_type": "display_data"
    }
   ],
   "source": [
    "sns.countplot(df['Gender'])"
   ]
  },
  {
   "cell_type": "code",
   "execution_count": 11,
   "id": "respective-federation",
   "metadata": {
    "execution": {
     "iopub.execute_input": "2021-04-05T10:31:00.869842Z",
     "iopub.status.busy": "2021-04-05T10:31:00.866705Z",
     "iopub.status.idle": "2021-04-05T10:31:01.016116Z",
     "shell.execute_reply": "2021-04-05T10:31:01.015341Z"
    },
    "papermill": {
     "duration": 0.195483,
     "end_time": "2021-04-05T10:31:01.016269",
     "exception": false,
     "start_time": "2021-04-05T10:31:00.820786",
     "status": "completed"
    },
    "tags": []
   },
   "outputs": [
    {
     "name": "stderr",
     "output_type": "stream",
     "text": [
      "/opt/conda/lib/python3.7/site-packages/seaborn/_decorators.py:43: FutureWarning: Pass the following variable as a keyword arg: x. From version 0.12, the only valid positional argument will be `data`, and passing other arguments without an explicit keyword will result in an error or misinterpretation.\n",
      "  FutureWarning\n"
     ]
    },
    {
     "data": {
      "text/plain": [
       "<AxesSubplot:xlabel='Dependents', ylabel='count'>"
      ]
     },
     "execution_count": 11,
     "metadata": {},
     "output_type": "execute_result"
    },
    {
     "data": {
      "image/png": "[encoded data removed]",
      "text/plain": [
       "<Figure size 432x288 with 1 Axes>"
      ]
     },
     "metadata": {
      "needs_background": "light"
     },
     "output_type": "display_data"
    }
   ],
   "source": [
    "sns.countplot(df['Dependents'])"
   ]
  },
  {
   "cell_type": "code",
   "execution_count": 12,
   "id": "unable-objective",
   "metadata": {
    "execution": {
     "iopub.execute_input": "2021-04-05T10:31:01.141184Z",
     "iopub.status.busy": "2021-04-05T10:31:01.107809Z",
     "iopub.status.idle": "2021-04-05T10:31:01.238781Z",
     "shell.execute_reply": "2021-04-05T10:31:01.238176Z"
    },
    "papermill": {
     "duration": 0.181979,
     "end_time": "2021-04-05T10:31:01.238929",
     "exception": false,
     "start_time": "2021-04-05T10:31:01.056950",
     "status": "completed"
    },
    "tags": []
   },
   "outputs": [
    {
     "name": "stderr",
     "output_type": "stream",
     "text": [
      "/opt/conda/lib/python3.7/site-packages/seaborn/_decorators.py:43: FutureWarning: Pass the following variable as a keyword arg: x. From version 0.12, the only valid positional argument will be `data`, and passing other arguments without an explicit keyword will result in an error or misinterpretation.\n",
      "  FutureWarning\n"
     ]
    },
    {
     "data": {
      "text/plain": [
       "<AxesSubplot:xlabel='Education', ylabel='count'>"
      ]
     },
     "execution_count": 12,
     "metadata": {},
     "output_type": "execute_result"
    },
    {
     "data": {
      "image/png": "[encoded data removed]",
      "text/plain": [
       "<Figure size 432x288 with 1 Axes>"
      ]
     },
     "metadata": {
      "needs_background": "light"
     },
     "output_type": "display_data"
    }
   ],
   "source": [
    "sns.countplot(df['Education'])"
   ]
  },
  {
   "cell_type": "code",
   "execution_count": 13,
   "id": "fresh-artist",
   "metadata": {
    "execution": {
     "iopub.execute_input": "2021-04-05T10:31:01.357820Z",
     "iopub.status.busy": "2021-04-05T10:31:01.335770Z",
     "iopub.status.idle": "2021-04-05T10:31:01.470290Z",
     "shell.execute_reply": "2021-04-05T10:31:01.469513Z"
    },
    "papermill": {
     "duration": 0.187706,
     "end_time": "2021-04-05T10:31:01.470460",
     "exception": false,
     "start_time": "2021-04-05T10:31:01.282754",
     "status": "completed"
    },
    "tags": []
   },
   "outputs": [
    {
     "name": "stderr",
     "output_type": "stream",
     "text": [
      "/opt/conda/lib/python3.7/site-packages/seaborn/_decorators.py:43: FutureWarning: Pass the following variable as a keyword arg: x. From version 0.12, the only valid positional argument will be `data`, and passing other arguments without an explicit keyword will result in an error or misinterpretation.\n",
      "  FutureWarning\n"
     ]
    },
    {
     "data": {
      "text/plain": [
       "<AxesSubplot:xlabel='Self_Employed', ylabel='count'>"
      ]
     },
     "execution_count": 13,
     "metadata": {},
     "output_type": "execute_result"
    },
    {
     "data": {
      "image/png": "[encoded data removed]",
      "text/plain": [
       "<Figure size 432x288 with 1 Axes>"
      ]
     },
     "metadata": {
      "needs_background": "light"
     },
     "output_type": "display_data"
    }
   ],
   "source": [
    "sns.countplot(df['Self_Employed'])"
   ]
  },
  {
   "cell_type": "code",
   "execution_count": 14,
   "id": "wound-fence",
   "metadata": {
    "execution": {
     "iopub.execute_input": "2021-04-05T10:31:01.602608Z",
     "iopub.status.busy": "2021-04-05T10:31:01.592988Z",
     "iopub.status.idle": "2021-04-05T10:31:01.706323Z",
     "shell.execute_reply": "2021-04-05T10:31:01.705691Z"
    },
    "papermill": {
     "duration": 0.190892,
     "end_time": "2021-04-05T10:31:01.706515",
     "exception": false,
     "start_time": "2021-04-05T10:31:01.515623",
     "status": "completed"
    },
    "tags": []
   },
   "outputs": [
    {
     "name": "stderr",
     "output_type": "stream",
     "text": [
      "/opt/conda/lib/python3.7/site-packages/seaborn/_decorators.py:43: FutureWarning: Pass the following variable as a keyword arg: x. From version 0.12, the only valid positional argument will be `data`, and passing other arguments without an explicit keyword will result in an error or misinterpretation.\n",
      "  FutureWarning\n"
     ]
    },
    {
     "data": {
      "text/plain": [
       "<AxesSubplot:xlabel='Property_Area', ylabel='count'>"
      ]
     },
     "execution_count": 14,
     "metadata": {},
     "output_type": "execute_result"
    },
    {
     "data": {
      "image/png": "[encoded data removed]",
      "text/plain": [
       "<Figure size 432x288 with 1 Axes>"
      ]
     },
     "metadata": {
      "needs_background": "light"
     },
     "output_type": "display_data"
    }
   ],
   "source": [
    "sns.countplot(df['Property_Area'])"
   ]
  },
  {
   "cell_type": "code",
   "execution_count": 15,
   "id": "killing-anchor",
   "metadata": {
    "execution": {
     "iopub.execute_input": "2021-04-05T10:31:01.824745Z",
     "iopub.status.busy": "2021-04-05T10:31:01.804253Z",
     "iopub.status.idle": "2021-04-05T10:31:01.943844Z",
     "shell.execute_reply": "2021-04-05T10:31:01.943127Z"
    },
    "papermill": {
     "duration": 0.192393,
     "end_time": "2021-04-05T10:31:01.944015",
     "exception": false,
     "start_time": "2021-04-05T10:31:01.751622",
     "status": "completed"
    },
    "tags": []
   },
   "outputs": [
    {
     "name": "stderr",
     "output_type": "stream",
     "text": [
      "/opt/conda/lib/python3.7/site-packages/seaborn/_decorators.py:43: FutureWarning: Pass the following variable as a keyword arg: x. From version 0.12, the only valid positional argument will be `data`, and passing other arguments without an explicit keyword will result in an error or misinterpretation.\n",
      "  FutureWarning\n"
     ]
    },
    {
     "data": {
      "text/plain": [
       "<AxesSubplot:xlabel='Loan_Status', ylabel='count'>"
      ]
     },
     "execution_count": 15,
     "metadata": {},
     "output_type": "execute_result"
    },
    {
     "data": {
      "image/png": "[encoded data removed]",
      "text/plain": [
       "<Figure size 432x288 with 1 Axes>"
      ]
     },
     "metadata": {
      "needs_background": "light"
     },
     "output_type": "display_data"
    }
   ],
   "source": [
    "sns.countplot(df['Loan_Status'])"
   ]
  },
  {
   "cell_type": "markdown",
   "id": "headed-traveler",
   "metadata": {
    "papermill": {
     "duration": 0.045871,
     "end_time": "2021-04-05T10:31:02.036912",
     "exception": false,
     "start_time": "2021-04-05T10:31:01.991041",
     "status": "completed"
    },
    "tags": []
   },
   "source": [
    "### Numerical attributes visualization"
   ]
  },
  {
   "cell_type": "code",
   "execution_count": 16,
   "id": "detected-bulletin",
   "metadata": {
    "execution": {
     "iopub.execute_input": "2021-04-05T10:31:02.136855Z",
     "iopub.status.busy": "2021-04-05T10:31:02.136081Z",
     "iopub.status.idle": "2021-04-05T10:31:02.436455Z",
     "shell.execute_reply": "2021-04-05T10:31:02.435445Z"
    },
    "papermill": {
     "duration": 0.351655,
     "end_time": "2021-04-05T10:31:02.436642",
     "exception": false,
     "start_time": "2021-04-05T10:31:02.084987",
     "status": "completed"
    },
    "tags": []
   },
   "outputs": [
    {
     "name": "stderr",
     "output_type": "stream",
     "text": [
      "/opt/conda/lib/python3.7/site-packages/seaborn/distributions.py:2557: FutureWarning: `distplot` is a deprecated function and will be removed in a future version. Please adapt your code to use either `displot` (a figure-level function with similar flexibility) or `histplot` (an axes-level function for histograms).\n",
      "  warnings.warn(msg, FutureWarning)\n"
     ]
    },
    {
     "data": {
      "text/plain": [
       "<AxesSubplot:xlabel='ApplicantIncome', ylabel='Density'>"
      ]
     },
     "execution_count": 16,
     "metadata": {},
     "output_type": "execute_result"
    },
    {
     "data": {
      "image/png": "[encoded data removed]",
      "text/plain": [
       "<Figure size 432x288 with 1 Axes>"
      ]
     },
     "metadata": {
      "needs_background": "light"
     },
     "output_type": "display_data"
    }
   ],
   "source": [
    "sns.distplot(df['ApplicantIncome'])"
   ]
  },
  {
   "cell_type": "markdown",
   "id": "reported-afternoon",
   "metadata": {
    "papermill": {
     "duration": 0.047804,
     "end_time": "2021-04-05T10:31:02.534238",
     "exception": false,
     "start_time": "2021-04-05T10:31:02.486434",
     "status": "completed"
    },
    "tags": []
   },
   "source": []
  },
  {
   "cell_type": "code",
   "execution_count": 17,
   "id": "minor-toddler",
   "metadata": {
    "execution": {
     "iopub.execute_input": "2021-04-05T10:31:02.637025Z",
     "iopub.status.busy": "2021-04-05T10:31:02.636317Z",
     "iopub.status.idle": "2021-04-05T10:31:02.640660Z",
     "shell.execute_reply": "2021-04-05T10:31:02.639997Z"
    },
    "papermill": {
     "duration": 0.058146,
     "end_time": "2021-04-05T10:31:02.640832",
     "exception": false,
     "start_time": "2021-04-05T10:31:02.582686",
     "status": "completed"
    },
    "tags": []
   },
   "outputs": [],
   "source": [
    "# apply Log Transformation to the attribute\n",
    "df['ApplicantIncome']=np.log(df['ApplicantIncome'])"
   ]
  },
  {
   "cell_type": "code",
   "execution_count": 18,
   "id": "fewer-elite",
   "metadata": {
    "execution": {
     "iopub.execute_input": "2021-04-05T10:31:02.749707Z",
     "iopub.status.busy": "2021-04-05T10:31:02.748871Z",
     "iopub.status.idle": "2021-04-05T10:31:03.002175Z",
     "shell.execute_reply": "2021-04-05T10:31:03.002769Z"
    },
    "papermill": {
     "duration": 0.309623,
     "end_time": "2021-04-05T10:31:03.002977",
     "exception": false,
     "start_time": "2021-04-05T10:31:02.693354",
     "status": "completed"
    },
    "tags": []
   },
   "outputs": [
    {
     "name": "stderr",
     "output_type": "stream",
     "text": [
      "/opt/conda/lib/python3.7/site-packages/seaborn/distributions.py:2557: FutureWarning: `distplot` is a deprecated function and will be removed in a future version. Please adapt your code to use either `displot` (a figure-level function with similar flexibility) or `histplot` (an axes-level function for histograms).\n",
      "  warnings.warn(msg, FutureWarning)\n"
     ]
    },
    {
     "data": {
      "text/plain": [
       "<AxesSubplot:xlabel='ApplicantIncome', ylabel='Density'>"
      ]
     },
     "execution_count": 18,
     "metadata": {},
     "output_type": "execute_result"
    },
    {
     "data": {
      "image/png": "[encoded data removed]",
      "text/plain": [
       "<Figure size 432x288 with 1 Axes>"
      ]
     },
     "metadata": {
      "needs_background": "light"
     },
     "output_type": "display_data"
    }
   ],
   "source": [
    "sns.distplot(df['ApplicantIncome'])"
   ]
  },
  {
   "cell_type": "code",
   "execution_count": 19,
   "id": "preceding-graham",
   "metadata": {
    "execution": {
     "iopub.execute_input": "2021-04-05T10:31:03.132179Z",
     "iopub.status.busy": "2021-04-05T10:31:03.130010Z",
     "iopub.status.idle": "2021-04-05T10:31:03.381787Z",
     "shell.execute_reply": "2021-04-05T10:31:03.381185Z"
    },
    "papermill": {
     "duration": 0.327853,
     "end_time": "2021-04-05T10:31:03.381963",
     "exception": false,
     "start_time": "2021-04-05T10:31:03.054110",
     "status": "completed"
    },
    "tags": []
   },
   "outputs": [
    {
     "name": "stderr",
     "output_type": "stream",
     "text": [
      "/opt/conda/lib/python3.7/site-packages/seaborn/distributions.py:2557: FutureWarning: `distplot` is a deprecated function and will be removed in a future version. Please adapt your code to use either `displot` (a figure-level function with similar flexibility) or `histplot` (an axes-level function for histograms).\n",
      "  warnings.warn(msg, FutureWarning)\n"
     ]
    },
    {
     "data": {
      "text/plain": [
       "<AxesSubplot:xlabel='CoapplicantIncome', ylabel='Density'>"
      ]
     },
     "execution_count": 19,
     "metadata": {},
     "output_type": "execute_result"
    },
    {
     "data": {
      "image/png": "[encoded data removed]",
      "text/plain": [
       "<Figure size 432x288 with 1 Axes>"
      ]
     },
     "metadata": {
      "needs_background": "light"
     },
     "output_type": "display_data"
    }
   ],
   "source": [
    "sns.distplot(df['CoapplicantIncome'])"
   ]
  },
  {
   "cell_type": "code",
   "execution_count": 20,
   "id": "flexible-orientation",
   "metadata": {
    "execution": {
     "iopub.execute_input": "2021-04-05T10:31:03.495564Z",
     "iopub.status.busy": "2021-04-05T10:31:03.494805Z",
     "iopub.status.idle": "2021-04-05T10:31:03.497426Z",
     "shell.execute_reply": "2021-04-05T10:31:03.497929Z"
    },
    "papermill": {
     "duration": 0.064914,
     "end_time": "2021-04-05T10:31:03.498131",
     "exception": false,
     "start_time": "2021-04-05T10:31:03.433217",
     "status": "completed"
    },
    "tags": []
   },
   "outputs": [],
   "source": [
    "\n",
    "df['CoapplicantIncome']=np.log(df['CoapplicantIncome']+1)"
   ]
  },
  {
   "cell_type": "code",
   "execution_count": 21,
   "id": "placed-economics",
   "metadata": {
    "execution": {
     "iopub.execute_input": "2021-04-05T10:31:03.606605Z",
     "iopub.status.busy": "2021-04-05T10:31:03.605886Z",
     "iopub.status.idle": "2021-04-05T10:31:03.803507Z",
     "shell.execute_reply": "2021-04-05T10:31:03.804004Z"
    },
    "papermill": {
     "duration": 0.253286,
     "end_time": "2021-04-05T10:31:03.804439",
     "exception": false,
     "start_time": "2021-04-05T10:31:03.551153",
     "status": "completed"
    },
    "tags": []
   },
   "outputs": [
    {
     "name": "stderr",
     "output_type": "stream",
     "text": [
      "/opt/conda/lib/python3.7/site-packages/seaborn/distributions.py:2557: FutureWarning: `distplot` is a deprecated function and will be removed in a future version. Please adapt your code to use either `displot` (a figure-level function with similar flexibility) or `histplot` (an axes-level function for histograms).\n",
      "  warnings.warn(msg, FutureWarning)\n"
     ]
    },
    {
     "data": {
      "text/plain": [
       "<AxesSubplot:xlabel='CoapplicantIncome', ylabel='Density'>"
      ]
     },
     "execution_count": 21,
     "metadata": {},
     "output_type": "execute_result"
    },
    {
     "data": {
      "image/png": "[encoded data removed]",
      "text/plain": [
       "<Figure size 432x288 with 1 Axes>"
      ]
     },
     "metadata": {
      "needs_background": "light"
     },
     "output_type": "display_data"
    }
   ],
   "source": [
    "sns.distplot(df['CoapplicantIncome'])"
   ]
  },
  {
   "cell_type": "code",
   "execution_count": 22,
   "id": "positive-blind",
   "metadata": {
    "execution": {
     "iopub.execute_input": "2021-04-05T10:31:03.917675Z",
     "iopub.status.busy": "2021-04-05T10:31:03.916628Z",
     "iopub.status.idle": "2021-04-05T10:31:04.185931Z",
     "shell.execute_reply": "2021-04-05T10:31:04.184480Z"
    },
    "papermill": {
     "duration": 0.327891,
     "end_time": "2021-04-05T10:31:04.186141",
     "exception": false,
     "start_time": "2021-04-05T10:31:03.858250",
     "status": "completed"
    },
    "tags": []
   },
   "outputs": [
    {
     "name": "stderr",
     "output_type": "stream",
     "text": [
      "/opt/conda/lib/python3.7/site-packages/seaborn/distributions.py:2557: FutureWarning: `distplot` is a deprecated function and will be removed in a future version. Please adapt your code to use either `displot` (a figure-level function with similar flexibility) or `histplot` (an axes-level function for histograms).\n",
      "  warnings.warn(msg, FutureWarning)\n"
     ]
    },
    {
     "data": {
      "text/plain": [
       "<AxesSubplot:xlabel='LoanAmount', ylabel='Density'>"
      ]
     },
     "execution_count": 22,
     "metadata": {},
     "output_type": "execute_result"
    },
    {
     "data": {
      "image/png": "[encoded data removed]",
      "text/plain": [
       "<Figure size 432x288 with 1 Axes>"
      ]
     },
     "metadata": {
      "needs_background": "light"
     },
     "output_type": "display_data"
    }
   ],
   "source": [
    "sns.distplot(df['LoanAmount'])"
   ]
  },
  {
   "cell_type": "code",
   "execution_count": 23,
   "id": "serious-senior",
   "metadata": {
    "execution": {
     "iopub.execute_input": "2021-04-05T10:31:04.309479Z",
     "iopub.status.busy": "2021-04-05T10:31:04.308501Z",
     "iopub.status.idle": "2021-04-05T10:31:04.312798Z",
     "shell.execute_reply": "2021-04-05T10:31:04.312215Z"
    },
    "papermill": {
     "duration": 0.071035,
     "end_time": "2021-04-05T10:31:04.312940",
     "exception": false,
     "start_time": "2021-04-05T10:31:04.241905",
     "status": "completed"
    },
    "tags": []
   },
   "outputs": [],
   "source": [
    "df['LoanAmount']=np.log(df['LoanAmount']+1)"
   ]
  },
  {
   "cell_type": "code",
   "execution_count": 24,
   "id": "metric-cemetery",
   "metadata": {
    "execution": {
     "iopub.execute_input": "2021-04-05T10:31:04.615402Z",
     "iopub.status.busy": "2021-04-05T10:31:04.612452Z",
     "iopub.status.idle": "2021-04-05T10:31:04.849131Z",
     "shell.execute_reply": "2021-04-05T10:31:04.849644Z"
    },
    "papermill": {
     "duration": 0.480137,
     "end_time": "2021-04-05T10:31:04.849839",
     "exception": false,
     "start_time": "2021-04-05T10:31:04.369702",
     "status": "completed"
    },
    "tags": []
   },
   "outputs": [
    {
     "name": "stderr",
     "output_type": "stream",
     "text": [
      "/opt/conda/lib/python3.7/site-packages/seaborn/distributions.py:2557: FutureWarning: `distplot` is a deprecated function and will be removed in a future version. Please adapt your code to use either `displot` (a figure-level function with similar flexibility) or `histplot` (an axes-level function for histograms).\n",
      "  warnings.warn(msg, FutureWarning)\n"
     ]
    },
    {
     "data": {
      "text/plain": [
       "<AxesSubplot:xlabel='LoanAmount', ylabel='Density'>"
      ]
     },
     "execution_count": 24,
     "metadata": {},
     "output_type": "execute_result"
    },
    {
     "data": {
      "image/png": "[encoded data removed]",
      "text/plain": [
       "<Figure size 432x288 with 1 Axes>"
      ]
     },
     "metadata": {
      "needs_background": "light"
     },
     "output_type": "display_data"
    }
   ],
   "source": [
    "sns.distplot(df['LoanAmount'])"
   ]
  },
  {
   "cell_type": "code",
   "execution_count": 25,
   "id": "alert-annex",
   "metadata": {
    "execution": {
     "iopub.execute_input": "2021-04-05T10:31:04.995239Z",
     "iopub.status.busy": "2021-04-05T10:31:04.992298Z",
     "iopub.status.idle": "2021-04-05T10:31:05.214528Z",
     "shell.execute_reply": "2021-04-05T10:31:05.213787Z"
    },
    "papermill": {
     "duration": 0.306653,
     "end_time": "2021-04-05T10:31:05.214681",
     "exception": false,
     "start_time": "2021-04-05T10:31:04.908028",
     "status": "completed"
    },
    "tags": []
   },
   "outputs": [
    {
     "name": "stderr",
     "output_type": "stream",
     "text": [
      "/opt/conda/lib/python3.7/site-packages/seaborn/distributions.py:2557: FutureWarning: `distplot` is a deprecated function and will be removed in a future version. Please adapt your code to use either `displot` (a figure-level function with similar flexibility) or `histplot` (an axes-level function for histograms).\n",
      "  warnings.warn(msg, FutureWarning)\n"
     ]
    },
    {
     "data": {
      "text/plain": [
       "<AxesSubplot:xlabel='Loan_Amount_Term', ylabel='Density'>"
      ]
     },
     "execution_count": 25,
     "metadata": {},
     "output_type": "execute_result"
    },
    {
     "data": {
      "image/png": "[encoded data removed]",
      "text/plain": [
       "<Figure size 432x288 with 1 Axes>"
      ]
     },
     "metadata": {
      "needs_background": "light"
     },
     "output_type": "display_data"
    }
   ],
   "source": [
    "sns.distplot(df['Loan_Amount_Term'])"
   ]
  },
  {
   "cell_type": "code",
   "execution_count": 26,
   "id": "colored-transformation",
   "metadata": {
    "execution": {
     "iopub.execute_input": "2021-04-05T10:31:05.339783Z",
     "iopub.status.busy": "2021-04-05T10:31:05.339042Z",
     "iopub.status.idle": "2021-04-05T10:31:05.342944Z",
     "shell.execute_reply": "2021-04-05T10:31:05.342307Z"
    },
    "papermill": {
     "duration": 0.06829,
     "end_time": "2021-04-05T10:31:05.343120",
     "exception": false,
     "start_time": "2021-04-05T10:31:05.274830",
     "status": "completed"
    },
    "tags": []
   },
   "outputs": [],
   "source": [
    "df['Loan_Amount_Term']=np.log(df['Loan_Amount_Term'])"
   ]
  },
  {
   "cell_type": "code",
   "execution_count": 27,
   "id": "protected-contents",
   "metadata": {
    "execution": {
     "iopub.execute_input": "2021-04-05T10:31:05.485831Z",
     "iopub.status.busy": "2021-04-05T10:31:05.485088Z",
     "iopub.status.idle": "2021-04-05T10:31:05.672213Z",
     "shell.execute_reply": "2021-04-05T10:31:05.672786Z"
    },
    "papermill": {
     "duration": 0.270388,
     "end_time": "2021-04-05T10:31:05.672966",
     "exception": false,
     "start_time": "2021-04-05T10:31:05.402578",
     "status": "completed"
    },
    "tags": []
   },
   "outputs": [
    {
     "name": "stderr",
     "output_type": "stream",
     "text": [
      "/opt/conda/lib/python3.7/site-packages/seaborn/distributions.py:2557: FutureWarning: `distplot` is a deprecated function and will be removed in a future version. Please adapt your code to use either `displot` (a figure-level function with similar flexibility) or `histplot` (an axes-level function for histograms).\n",
      "  warnings.warn(msg, FutureWarning)\n"
     ]
    },
    {
     "data": {
      "text/plain": [
       "<AxesSubplot:xlabel='Loan_Amount_Term', ylabel='Density'>"
      ]
     },
     "execution_count": 27,
     "metadata": {},
     "output_type": "execute_result"
    },
    {
     "data": {
      "image/png": "[encoded data removed]",
      "text/plain": [
       "<Figure size 432x288 with 1 Axes>"
      ]
     },
     "metadata": {
      "needs_background": "light"
     },
     "output_type": "display_data"
    }
   ],
   "source": [
    "sns.distplot(df['Loan_Amount_Term'])"
   ]
  },
  {
   "cell_type": "code",
   "execution_count": 28,
   "id": "sticky-marsh",
   "metadata": {
    "execution": {
     "iopub.execute_input": "2021-04-05T10:31:05.824846Z",
     "iopub.status.busy": "2021-04-05T10:31:05.818375Z",
     "iopub.status.idle": "2021-04-05T10:31:06.034696Z",
     "shell.execute_reply": "2021-04-05T10:31:06.034041Z"
    },
    "papermill": {
     "duration": 0.302558,
     "end_time": "2021-04-05T10:31:06.034874",
     "exception": false,
     "start_time": "2021-04-05T10:31:05.732316",
     "status": "completed"
    },
    "tags": []
   },
   "outputs": [
    {
     "name": "stderr",
     "output_type": "stream",
     "text": [
      "/opt/conda/lib/python3.7/site-packages/seaborn/distributions.py:2557: FutureWarning: `distplot` is a deprecated function and will be removed in a future version. Please adapt your code to use either `displot` (a figure-level function with similar flexibility) or `histplot` (an axes-level function for histograms).\n",
      "  warnings.warn(msg, FutureWarning)\n"
     ]
    },
    {
     "data": {
      "text/plain": [
       "<AxesSubplot:xlabel='Credit_History', ylabel='Density'>"
      ]
     },
     "execution_count": 28,
     "metadata": {},
     "output_type": "execute_result"
    },
    {
     "data": {
      "image/png": "[encoded data removed]",
      "text/plain": [
       "<Figure size 432x288 with 1 Axes>"
      ]
     },
     "metadata": {
      "needs_background": "light"
     },
     "output_type": "display_data"
    }
   ],
   "source": [
    "sns.distplot(df['Credit_History'])"
   ]
  },
  {
   "cell_type": "markdown",
   "id": "experimental-preserve",
   "metadata": {
    "papermill": {
     "duration": 0.060959,
     "end_time": "2021-04-05T10:31:06.158951",
     "exception": false,
     "start_time": "2021-04-05T10:31:06.097992",
     "status": "completed"
    },
    "tags": []
   },
   "source": [
    "### Creation of new attributes"
   ]
  },
  {
   "cell_type": "code",
   "execution_count": 29,
   "id": "shaped-survey",
   "metadata": {
    "execution": {
     "iopub.execute_input": "2021-04-05T10:31:06.291474Z",
     "iopub.status.busy": "2021-04-05T10:31:06.290180Z",
     "iopub.status.idle": "2021-04-05T10:31:06.312069Z",
     "shell.execute_reply": "2021-04-05T10:31:06.311501Z"
    },
    "papermill": {
     "duration": 0.090778,
     "end_time": "2021-04-05T10:31:06.312237",
     "exception": false,
     "start_time": "2021-04-05T10:31:06.221459",
     "status": "completed"
    },
    "tags": []
   },
   "outputs": [
    {
     "data": {
      "text/html": [
       "<div>\n",
       "<style scoped>\n",
       "    .dataframe tbody tr th:only-of-type {\n",
       "        vertical-align: middle;\n",
       "    }\n",
       "\n",
       "    .dataframe tbody tr th {\n",
       "        vertical-align: top;\n",
       "    }\n",
       "\n",
       "    .dataframe thead th {\n",
       "        text-align: right;\n",
       "    }\n",
       "</style>\n",
       "<table border=\"1\" class=\"dataframe\">\n",
       "  <thead>\n",
       "    <tr style=\"text-align: right;\">\n",
       "      <th></th>\n",
       "      <th>Loan_ID</th>\n",
       "      <th>Gender</th>\n",
       "      <th>Married</th>\n",
       "      <th>Dependents</th>\n",
       "      <th>Education</th>\n",
       "      <th>Self_Employed</th>\n",
       "      <th>ApplicantIncome</th>\n",
       "      <th>CoapplicantIncome</th>\n",
       "      <th>LoanAmount</th>\n",
       "      <th>Loan_Amount_Term</th>\n",
       "      <th>Credit_History</th>\n",
       "      <th>Property_Area</th>\n",
       "      <th>Loan_Status</th>\n",
       "      <th>Total_Income</th>\n",
       "    </tr>\n",
       "  </thead>\n",
       "  <tbody>\n",
       "    <tr>\n",
       "      <th>0</th>\n",
       "      <td>LP001002</td>\n",
       "      <td>Male</td>\n",
       "      <td>No</td>\n",
       "      <td>0</td>\n",
       "      <td>Graduate</td>\n",
       "      <td>No</td>\n",
       "      <td>8.674026</td>\n",
       "      <td>0.000000</td>\n",
       "      <td>4.993232</td>\n",
       "      <td>5.886104</td>\n",
       "      <td>1.0</td>\n",
       "      <td>Urban</td>\n",
       "      <td>Y</td>\n",
       "      <td>8.674026</td>\n",
       "    </tr>\n",
       "    <tr>\n",
       "      <th>1</th>\n",
       "      <td>LP001003</td>\n",
       "      <td>Male</td>\n",
       "      <td>Yes</td>\n",
       "      <td>1</td>\n",
       "      <td>Graduate</td>\n",
       "      <td>No</td>\n",
       "      <td>8.430109</td>\n",
       "      <td>7.319202</td>\n",
       "      <td>4.859812</td>\n",
       "      <td>5.886104</td>\n",
       "      <td>1.0</td>\n",
       "      <td>Rural</td>\n",
       "      <td>N</td>\n",
       "      <td>15.749312</td>\n",
       "    </tr>\n",
       "    <tr>\n",
       "      <th>2</th>\n",
       "      <td>LP001005</td>\n",
       "      <td>Male</td>\n",
       "      <td>Yes</td>\n",
       "      <td>0</td>\n",
       "      <td>Graduate</td>\n",
       "      <td>Yes</td>\n",
       "      <td>8.006368</td>\n",
       "      <td>0.000000</td>\n",
       "      <td>4.204693</td>\n",
       "      <td>5.886104</td>\n",
       "      <td>1.0</td>\n",
       "      <td>Urban</td>\n",
       "      <td>Y</td>\n",
       "      <td>8.006368</td>\n",
       "    </tr>\n",
       "    <tr>\n",
       "      <th>3</th>\n",
       "      <td>LP001006</td>\n",
       "      <td>Male</td>\n",
       "      <td>Yes</td>\n",
       "      <td>0</td>\n",
       "      <td>Not Graduate</td>\n",
       "      <td>No</td>\n",
       "      <td>7.856707</td>\n",
       "      <td>7.765993</td>\n",
       "      <td>4.795791</td>\n",
       "      <td>5.886104</td>\n",
       "      <td>1.0</td>\n",
       "      <td>Urban</td>\n",
       "      <td>Y</td>\n",
       "      <td>15.622700</td>\n",
       "    </tr>\n",
       "    <tr>\n",
       "      <th>4</th>\n",
       "      <td>LP001008</td>\n",
       "      <td>Male</td>\n",
       "      <td>No</td>\n",
       "      <td>0</td>\n",
       "      <td>Graduate</td>\n",
       "      <td>No</td>\n",
       "      <td>8.699515</td>\n",
       "      <td>0.000000</td>\n",
       "      <td>4.955827</td>\n",
       "      <td>5.886104</td>\n",
       "      <td>1.0</td>\n",
       "      <td>Urban</td>\n",
       "      <td>Y</td>\n",
       "      <td>8.699515</td>\n",
       "    </tr>\n",
       "  </tbody>\n",
       "</table>\n",
       "</div>"
      ],
      "text/plain": [
       "    Loan_ID Gender Married Dependents     Education Self_Employed  \\\n",
       "0  LP001002   Male      No          0      Graduate            No   \n",
       "1  LP001003   Male     Yes          1      Graduate            No   \n",
       "2  LP001005   Male     Yes          0      Graduate           Yes   \n",
       "3  LP001006   Male     Yes          0  Not Graduate            No   \n",
       "4  LP001008   Male      No          0      Graduate            No   \n",
       "\n",
       "   ApplicantIncome  CoapplicantIncome  LoanAmount  Loan_Amount_Term  \\\n",
       "0         8.674026           0.000000    4.993232          5.886104   \n",
       "1         8.430109           7.319202    4.859812          5.886104   \n",
       "2         8.006368           0.000000    4.204693          5.886104   \n",
       "3         7.856707           7.765993    4.795791          5.886104   \n",
       "4         8.699515           0.000000    4.955827          5.886104   \n",
       "\n",
       "   Credit_History Property_Area Loan_Status  Total_Income  \n",
       "0             1.0         Urban           Y      8.674026  \n",
       "1             1.0         Rural           N     15.749312  \n",
       "2             1.0         Urban           Y      8.006368  \n",
       "3             1.0         Urban           Y     15.622700  \n",
       "4             1.0         Urban           Y      8.699515  "
      ]
     },
     "execution_count": 29,
     "metadata": {},
     "output_type": "execute_result"
    }
   ],
   "source": [
    "# total income\n",
    "df['Total_Income']=df['ApplicantIncome'] + df['CoapplicantIncome']\n",
    "df.head()"
   ]
  },
  {
   "cell_type": "markdown",
   "id": "threaded-laser",
   "metadata": {
    "papermill": {
     "duration": 0.061493,
     "end_time": "2021-04-05T10:31:06.435955",
     "exception": false,
     "start_time": "2021-04-05T10:31:06.374462",
     "status": "completed"
    },
    "tags": []
   },
   "source": [
    "## Coorelation Matrix"
   ]
  },
  {
   "cell_type": "code",
   "execution_count": 30,
   "id": "convenient-coral",
   "metadata": {
    "execution": {
     "iopub.execute_input": "2021-04-05T10:31:06.566205Z",
     "iopub.status.busy": "2021-04-05T10:31:06.565428Z",
     "iopub.status.idle": "2021-04-05T10:31:07.024613Z",
     "shell.execute_reply": "2021-04-05T10:31:07.025073Z"
    },
    "papermill": {
     "duration": 0.527683,
     "end_time": "2021-04-05T10:31:07.025305",
     "exception": false,
     "start_time": "2021-04-05T10:31:06.497622",
     "status": "completed"
    },
    "tags": []
   },
   "outputs": [
    {
     "data": {
      "text/plain": [
       "<AxesSubplot:>"
      ]
     },
     "execution_count": 30,
     "metadata": {},
     "output_type": "execute_result"
    },
    {
     "data": {
      "image/png": "[encoded data removed]",
      "text/plain": [
       "<Figure size 432x288 with 2 Axes>"
      ]
     },
     "metadata": {
      "needs_background": "light"
     },
     "output_type": "display_data"
    }
   ],
   "source": [
    "corr = df.corr()\n",
    "sns.heatmap(corr,annot=True, cmap='BuPu')"
   ]
  },
  {
   "cell_type": "code",
   "execution_count": 31,
   "id": "intense-fossil",
   "metadata": {
    "execution": {
     "iopub.execute_input": "2021-04-05T10:31:07.159065Z",
     "iopub.status.busy": "2021-04-05T10:31:07.158051Z",
     "iopub.status.idle": "2021-04-05T10:31:07.183142Z",
     "shell.execute_reply": "2021-04-05T10:31:07.182405Z"
    },
    "papermill": {
     "duration": 0.094255,
     "end_time": "2021-04-05T10:31:07.183334",
     "exception": false,
     "start_time": "2021-04-05T10:31:07.089079",
     "status": "completed"
    },
    "tags": []
   },
   "outputs": [
    {
     "data": {
      "text/html": [
       "<div>\n",
       "<style scoped>\n",
       "    .dataframe tbody tr th:only-of-type {\n",
       "        vertical-align: middle;\n",
       "    }\n",
       "\n",
       "    .dataframe tbody tr th {\n",
       "        vertical-align: top;\n",
       "    }\n",
       "\n",
       "    .dataframe thead th {\n",
       "        text-align: right;\n",
       "    }\n",
       "</style>\n",
       "<table border=\"1\" class=\"dataframe\">\n",
       "  <thead>\n",
       "    <tr style=\"text-align: right;\">\n",
       "      <th></th>\n",
       "      <th>Loan_ID</th>\n",
       "      <th>Gender</th>\n",
       "      <th>Married</th>\n",
       "      <th>Dependents</th>\n",
       "      <th>Education</th>\n",
       "      <th>Self_Employed</th>\n",
       "      <th>ApplicantIncome</th>\n",
       "      <th>CoapplicantIncome</th>\n",
       "      <th>LoanAmount</th>\n",
       "      <th>Loan_Amount_Term</th>\n",
       "      <th>Credit_History</th>\n",
       "      <th>Property_Area</th>\n",
       "      <th>Loan_Status</th>\n",
       "      <th>Total_Income</th>\n",
       "    </tr>\n",
       "  </thead>\n",
       "  <tbody>\n",
       "    <tr>\n",
       "      <th>0</th>\n",
       "      <td>LP001002</td>\n",
       "      <td>Male</td>\n",
       "      <td>No</td>\n",
       "      <td>0</td>\n",
       "      <td>Graduate</td>\n",
       "      <td>No</td>\n",
       "      <td>8.674026</td>\n",
       "      <td>0.000000</td>\n",
       "      <td>4.993232</td>\n",
       "      <td>5.886104</td>\n",
       "      <td>1.0</td>\n",
       "      <td>Urban</td>\n",
       "      <td>Y</td>\n",
       "      <td>8.674026</td>\n",
       "    </tr>\n",
       "    <tr>\n",
       "      <th>1</th>\n",
       "      <td>LP001003</td>\n",
       "      <td>Male</td>\n",
       "      <td>Yes</td>\n",
       "      <td>1</td>\n",
       "      <td>Graduate</td>\n",
       "      <td>No</td>\n",
       "      <td>8.430109</td>\n",
       "      <td>7.319202</td>\n",
       "      <td>4.859812</td>\n",
       "      <td>5.886104</td>\n",
       "      <td>1.0</td>\n",
       "      <td>Rural</td>\n",
       "      <td>N</td>\n",
       "      <td>15.749312</td>\n",
       "    </tr>\n",
       "    <tr>\n",
       "      <th>2</th>\n",
       "      <td>LP001005</td>\n",
       "      <td>Male</td>\n",
       "      <td>Yes</td>\n",
       "      <td>0</td>\n",
       "      <td>Graduate</td>\n",
       "      <td>Yes</td>\n",
       "      <td>8.006368</td>\n",
       "      <td>0.000000</td>\n",
       "      <td>4.204693</td>\n",
       "      <td>5.886104</td>\n",
       "      <td>1.0</td>\n",
       "      <td>Urban</td>\n",
       "      <td>Y</td>\n",
       "      <td>8.006368</td>\n",
       "    </tr>\n",
       "    <tr>\n",
       "      <th>3</th>\n",
       "      <td>LP001006</td>\n",
       "      <td>Male</td>\n",
       "      <td>Yes</td>\n",
       "      <td>0</td>\n",
       "      <td>Not Graduate</td>\n",
       "      <td>No</td>\n",
       "      <td>7.856707</td>\n",
       "      <td>7.765993</td>\n",
       "      <td>4.795791</td>\n",
       "      <td>5.886104</td>\n",
       "      <td>1.0</td>\n",
       "      <td>Urban</td>\n",
       "      <td>Y</td>\n",
       "      <td>15.622700</td>\n",
       "    </tr>\n",
       "    <tr>\n",
       "      <th>4</th>\n",
       "      <td>LP001008</td>\n",
       "      <td>Male</td>\n",
       "      <td>No</td>\n",
       "      <td>0</td>\n",
       "      <td>Graduate</td>\n",
       "      <td>No</td>\n",
       "      <td>8.699515</td>\n",
       "      <td>0.000000</td>\n",
       "      <td>4.955827</td>\n",
       "      <td>5.886104</td>\n",
       "      <td>1.0</td>\n",
       "      <td>Urban</td>\n",
       "      <td>Y</td>\n",
       "      <td>8.699515</td>\n",
       "    </tr>\n",
       "  </tbody>\n",
       "</table>\n",
       "</div>"
      ],
      "text/plain": [
       "    Loan_ID Gender Married Dependents     Education Self_Employed  \\\n",
       "0  LP001002   Male      No          0      Graduate            No   \n",
       "1  LP001003   Male     Yes          1      Graduate            No   \n",
       "2  LP001005   Male     Yes          0      Graduate           Yes   \n",
       "3  LP001006   Male     Yes          0  Not Graduate            No   \n",
       "4  LP001008   Male      No          0      Graduate            No   \n",
       "\n",
       "   ApplicantIncome  CoapplicantIncome  LoanAmount  Loan_Amount_Term  \\\n",
       "0         8.674026           0.000000    4.993232          5.886104   \n",
       "1         8.430109           7.319202    4.859812          5.886104   \n",
       "2         8.006368           0.000000    4.204693          5.886104   \n",
       "3         7.856707           7.765993    4.795791          5.886104   \n",
       "4         8.699515           0.000000    4.955827          5.886104   \n",
       "\n",
       "   Credit_History Property_Area Loan_Status  Total_Income  \n",
       "0             1.0         Urban           Y      8.674026  \n",
       "1             1.0         Rural           N     15.749312  \n",
       "2             1.0         Urban           Y      8.006368  \n",
       "3             1.0         Urban           Y     15.622700  \n",
       "4             1.0         Urban           Y      8.699515  "
      ]
     },
     "execution_count": 31,
     "metadata": {},
     "output_type": "execute_result"
    }
   ],
   "source": [
    "df.head()"
   ]
  },
  {
   "cell_type": "code",
   "execution_count": 32,
   "id": "sublime-diesel",
   "metadata": {
    "execution": {
     "iopub.execute_input": "2021-04-05T10:31:07.337841Z",
     "iopub.status.busy": "2021-04-05T10:31:07.336978Z",
     "iopub.status.idle": "2021-04-05T10:31:07.343825Z",
     "shell.execute_reply": "2021-04-05T10:31:07.343202Z"
    },
    "papermill": {
     "duration": 0.094812,
     "end_time": "2021-04-05T10:31:07.343990",
     "exception": false,
     "start_time": "2021-04-05T10:31:07.249178",
     "status": "completed"
    },
    "tags": []
   },
   "outputs": [
    {
     "data": {
      "text/html": [
       "<div>\n",
       "<style scoped>\n",
       "    .dataframe tbody tr th:only-of-type {\n",
       "        vertical-align: middle;\n",
       "    }\n",
       "\n",
       "    .dataframe tbody tr th {\n",
       "        vertical-align: top;\n",
       "    }\n",
       "\n",
       "    .dataframe thead th {\n",
       "        text-align: right;\n",
       "    }\n",
       "</style>\n",
       "<table border=\"1\" class=\"dataframe\">\n",
       "  <thead>\n",
       "    <tr style=\"text-align: right;\">\n",
       "      <th></th>\n",
       "      <th>Gender</th>\n",
       "      <th>Married</th>\n",
       "      <th>Dependents</th>\n",
       "      <th>Education</th>\n",
       "      <th>Self_Employed</th>\n",
       "      <th>ApplicantIncome</th>\n",
       "      <th>LoanAmount</th>\n",
       "      <th>Loan_Amount_Term</th>\n",
       "      <th>Credit_History</th>\n",
       "      <th>Property_Area</th>\n",
       "      <th>Loan_Status</th>\n",
       "      <th>Total_Income</th>\n",
       "    </tr>\n",
       "  </thead>\n",
       "  <tbody>\n",
       "    <tr>\n",
       "      <th>0</th>\n",
       "      <td>Male</td>\n",
       "      <td>No</td>\n",
       "      <td>0</td>\n",
       "      <td>Graduate</td>\n",
       "      <td>No</td>\n",
       "      <td>8.674026</td>\n",
       "      <td>4.993232</td>\n",
       "      <td>5.886104</td>\n",
       "      <td>1.0</td>\n",
       "      <td>Urban</td>\n",
       "      <td>Y</td>\n",
       "      <td>8.674026</td>\n",
       "    </tr>\n",
       "    <tr>\n",
       "      <th>1</th>\n",
       "      <td>Male</td>\n",
       "      <td>Yes</td>\n",
       "      <td>1</td>\n",
       "      <td>Graduate</td>\n",
       "      <td>No</td>\n",
       "      <td>8.430109</td>\n",
       "      <td>4.859812</td>\n",
       "      <td>5.886104</td>\n",
       "      <td>1.0</td>\n",
       "      <td>Rural</td>\n",
       "      <td>N</td>\n",
       "      <td>15.749312</td>\n",
       "    </tr>\n",
       "    <tr>\n",
       "      <th>2</th>\n",
       "      <td>Male</td>\n",
       "      <td>Yes</td>\n",
       "      <td>0</td>\n",
       "      <td>Graduate</td>\n",
       "      <td>Yes</td>\n",
       "      <td>8.006368</td>\n",
       "      <td>4.204693</td>\n",
       "      <td>5.886104</td>\n",
       "      <td>1.0</td>\n",
       "      <td>Urban</td>\n",
       "      <td>Y</td>\n",
       "      <td>8.006368</td>\n",
       "    </tr>\n",
       "    <tr>\n",
       "      <th>3</th>\n",
       "      <td>Male</td>\n",
       "      <td>Yes</td>\n",
       "      <td>0</td>\n",
       "      <td>Not Graduate</td>\n",
       "      <td>No</td>\n",
       "      <td>7.856707</td>\n",
       "      <td>4.795791</td>\n",
       "      <td>5.886104</td>\n",
       "      <td>1.0</td>\n",
       "      <td>Urban</td>\n",
       "      <td>Y</td>\n",
       "      <td>15.622700</td>\n",
       "    </tr>\n",
       "    <tr>\n",
       "      <th>4</th>\n",
       "      <td>Male</td>\n",
       "      <td>No</td>\n",
       "      <td>0</td>\n",
       "      <td>Graduate</td>\n",
       "      <td>No</td>\n",
       "      <td>8.699515</td>\n",
       "      <td>4.955827</td>\n",
       "      <td>5.886104</td>\n",
       "      <td>1.0</td>\n",
       "      <td>Urban</td>\n",
       "      <td>Y</td>\n",
       "      <td>8.699515</td>\n",
       "    </tr>\n",
       "  </tbody>\n",
       "</table>\n",
       "</div>"
      ],
      "text/plain": [
       "  Gender Married Dependents     Education Self_Employed  ApplicantIncome  \\\n",
       "0   Male      No          0      Graduate            No         8.674026   \n",
       "1   Male     Yes          1      Graduate            No         8.430109   \n",
       "2   Male     Yes          0      Graduate           Yes         8.006368   \n",
       "3   Male     Yes          0  Not Graduate            No         7.856707   \n",
       "4   Male      No          0      Graduate            No         8.699515   \n",
       "\n",
       "   LoanAmount  Loan_Amount_Term  Credit_History Property_Area Loan_Status  \\\n",
       "0    4.993232          5.886104             1.0         Urban           Y   \n",
       "1    4.859812          5.886104             1.0         Rural           N   \n",
       "2    4.204693          5.886104             1.0         Urban           Y   \n",
       "3    4.795791          5.886104             1.0         Urban           Y   \n",
       "4    4.955827          5.886104             1.0         Urban           Y   \n",
       "\n",
       "   Total_Income  \n",
       "0      8.674026  \n",
       "1     15.749312  \n",
       "2      8.006368  \n",
       "3     15.622700  \n",
       "4      8.699515  "
      ]
     },
     "execution_count": 32,
     "metadata": {},
     "output_type": "execute_result"
    }
   ],
   "source": [
    "# drop unnecessary columns\n",
    "cols = ['Loan_ID', 'CoapplicantIncome']\n",
    "df=df.drop(columns=cols, axis=1)\n",
    "df.head()"
   ]
  },
  {
   "cell_type": "markdown",
   "id": "intensive-tours",
   "metadata": {
    "papermill": {
     "duration": 0.065325,
     "end_time": "2021-04-05T10:31:07.475524",
     "exception": false,
     "start_time": "2021-04-05T10:31:07.410199",
     "status": "completed"
    },
    "tags": []
   },
   "source": [
    "## Label Encoding"
   ]
  },
  {
   "cell_type": "code",
   "execution_count": 33,
   "id": "protective-throw",
   "metadata": {
    "execution": {
     "iopub.execute_input": "2021-04-05T10:31:07.622039Z",
     "iopub.status.busy": "2021-04-05T10:31:07.621262Z",
     "iopub.status.idle": "2021-04-05T10:31:07.827054Z",
     "shell.execute_reply": "2021-04-05T10:31:07.826111Z"
    },
    "papermill": {
     "duration": 0.283748,
     "end_time": "2021-04-05T10:31:07.827260",
     "exception": false,
     "start_time": "2021-04-05T10:31:07.543512",
     "status": "completed"
    },
    "tags": []
   },
   "outputs": [],
   "source": [
    "from sklearn.preprocessing import LabelEncoder\n",
    "cols=['Gender', 'Married', 'Education', 'Self_Employed', 'Property_Area', 'Loan_Status', 'Dependents']\n",
    "le=LabelEncoder()\n",
    "for col in cols:\n",
    "    df[col]=le.fit_transform(df[col])"
   ]
  },
  {
   "cell_type": "code",
   "execution_count": 34,
   "id": "bibliographic-roller",
   "metadata": {
    "execution": {
     "iopub.execute_input": "2021-04-05T10:31:07.981556Z",
     "iopub.status.busy": "2021-04-05T10:31:07.980534Z",
     "iopub.status.idle": "2021-04-05T10:31:07.986502Z",
     "shell.execute_reply": "2021-04-05T10:31:07.985818Z"
    },
    "papermill": {
     "duration": 0.090456,
     "end_time": "2021-04-05T10:31:07.986665",
     "exception": false,
     "start_time": "2021-04-05T10:31:07.896209",
     "status": "completed"
    },
    "tags": []
   },
   "outputs": [
    {
     "data": {
      "text/html": [
       "<div>\n",
       "<style scoped>\n",
       "    .dataframe tbody tr th:only-of-type {\n",
       "        vertical-align: middle;\n",
       "    }\n",
       "\n",
       "    .dataframe tbody tr th {\n",
       "        vertical-align: top;\n",
       "    }\n",
       "\n",
       "    .dataframe thead th {\n",
       "        text-align: right;\n",
       "    }\n",
       "</style>\n",
       "<table border=\"1\" class=\"dataframe\">\n",
       "  <thead>\n",
       "    <tr style=\"text-align: right;\">\n",
       "      <th></th>\n",
       "      <th>Gender</th>\n",
       "      <th>Married</th>\n",
       "      <th>Dependents</th>\n",
       "      <th>Education</th>\n",
       "      <th>Self_Employed</th>\n",
       "      <th>ApplicantIncome</th>\n",
       "      <th>LoanAmount</th>\n",
       "      <th>Loan_Amount_Term</th>\n",
       "      <th>Credit_History</th>\n",
       "      <th>Property_Area</th>\n",
       "      <th>Loan_Status</th>\n",
       "      <th>Total_Income</th>\n",
       "    </tr>\n",
       "  </thead>\n",
       "  <tbody>\n",
       "    <tr>\n",
       "      <th>0</th>\n",
       "      <td>1</td>\n",
       "      <td>0</td>\n",
       "      <td>0</td>\n",
       "      <td>0</td>\n",
       "      <td>0</td>\n",
       "      <td>8.674026</td>\n",
       "      <td>4.993232</td>\n",
       "      <td>5.886104</td>\n",
       "      <td>1.0</td>\n",
       "      <td>2</td>\n",
       "      <td>1</td>\n",
       "      <td>8.674026</td>\n",
       "    </tr>\n",
       "    <tr>\n",
       "      <th>1</th>\n",
       "      <td>1</td>\n",
       "      <td>1</td>\n",
       "      <td>1</td>\n",
       "      <td>0</td>\n",
       "      <td>0</td>\n",
       "      <td>8.430109</td>\n",
       "      <td>4.859812</td>\n",
       "      <td>5.886104</td>\n",
       "      <td>1.0</td>\n",
       "      <td>0</td>\n",
       "      <td>0</td>\n",
       "      <td>15.749312</td>\n",
       "    </tr>\n",
       "    <tr>\n",
       "      <th>2</th>\n",
       "      <td>1</td>\n",
       "      <td>1</td>\n",
       "      <td>0</td>\n",
       "      <td>0</td>\n",
       "      <td>1</td>\n",
       "      <td>8.006368</td>\n",
       "      <td>4.204693</td>\n",
       "      <td>5.886104</td>\n",
       "      <td>1.0</td>\n",
       "      <td>2</td>\n",
       "      <td>1</td>\n",
       "      <td>8.006368</td>\n",
       "    </tr>\n",
       "    <tr>\n",
       "      <th>3</th>\n",
       "      <td>1</td>\n",
       "      <td>1</td>\n",
       "      <td>0</td>\n",
       "      <td>1</td>\n",
       "      <td>0</td>\n",
       "      <td>7.856707</td>\n",
       "      <td>4.795791</td>\n",
       "      <td>5.886104</td>\n",
       "      <td>1.0</td>\n",
       "      <td>2</td>\n",
       "      <td>1</td>\n",
       "      <td>15.622700</td>\n",
       "    </tr>\n",
       "    <tr>\n",
       "      <th>4</th>\n",
       "      <td>1</td>\n",
       "      <td>0</td>\n",
       "      <td>0</td>\n",
       "      <td>0</td>\n",
       "      <td>0</td>\n",
       "      <td>8.699515</td>\n",
       "      <td>4.955827</td>\n",
       "      <td>5.886104</td>\n",
       "      <td>1.0</td>\n",
       "      <td>2</td>\n",
       "      <td>1</td>\n",
       "      <td>8.699515</td>\n",
       "    </tr>\n",
       "  </tbody>\n",
       "</table>\n",
       "</div>"
      ],
      "text/plain": [
       "   Gender  Married  Dependents  Education  Self_Employed  ApplicantIncome  \\\n",
       "0       1        0           0          0              0         8.674026   \n",
       "1       1        1           1          0              0         8.430109   \n",
       "2       1        1           0          0              1         8.006368   \n",
       "3       1        1           0          1              0         7.856707   \n",
       "4       1        0           0          0              0         8.699515   \n",
       "\n",
       "   LoanAmount  Loan_Amount_Term  Credit_History  Property_Area  Loan_Status  \\\n",
       "0    4.993232          5.886104             1.0              2            1   \n",
       "1    4.859812          5.886104             1.0              0            0   \n",
       "2    4.204693          5.886104             1.0              2            1   \n",
       "3    4.795791          5.886104             1.0              2            1   \n",
       "4    4.955827          5.886104             1.0              2            1   \n",
       "\n",
       "   Total_Income  \n",
       "0      8.674026  \n",
       "1     15.749312  \n",
       "2      8.006368  \n",
       "3     15.622700  \n",
       "4      8.699515  "
      ]
     },
     "execution_count": 34,
     "metadata": {},
     "output_type": "execute_result"
    }
   ],
   "source": [
    "df.head()"
   ]
  },
  {
   "cell_type": "markdown",
   "id": "italic-senator",
   "metadata": {
    "papermill": {
     "duration": 0.067185,
     "end_time": "2021-04-05T10:31:08.120430",
     "exception": false,
     "start_time": "2021-04-05T10:31:08.053245",
     "status": "completed"
    },
    "tags": []
   },
   "source": [
    "## Train-Test Split"
   ]
  },
  {
   "cell_type": "code",
   "execution_count": 35,
   "id": "political-identification",
   "metadata": {
    "execution": {
     "iopub.execute_input": "2021-04-05T10:31:08.260701Z",
     "iopub.status.busy": "2021-04-05T10:31:08.259045Z",
     "iopub.status.idle": "2021-04-05T10:31:08.265153Z",
     "shell.execute_reply": "2021-04-05T10:31:08.264472Z"
    },
    "papermill": {
     "duration": 0.078623,
     "end_time": "2021-04-05T10:31:08.265421",
     "exception": false,
     "start_time": "2021-04-05T10:31:08.186798",
     "status": "completed"
    },
    "tags": []
   },
   "outputs": [],
   "source": [
    "# Specify input and output attributes\n",
    "X=df.drop(columns=['Loan_Status'],axis=1)\n",
    "y=df['Loan_Status']"
   ]
  },
  {
   "cell_type": "code",
   "execution_count": 36,
   "id": "juvenile-leone",
   "metadata": {
    "execution": {
     "iopub.execute_input": "2021-04-05T10:31:08.405904Z",
     "iopub.status.busy": "2021-04-05T10:31:08.405096Z",
     "iopub.status.idle": "2021-04-05T10:31:08.488527Z",
     "shell.execute_reply": "2021-04-05T10:31:08.487763Z"
    },
    "papermill": {
     "duration": 0.156296,
     "end_time": "2021-04-05T10:31:08.488706",
     "exception": false,
     "start_time": "2021-04-05T10:31:08.332410",
     "status": "completed"
    },
    "tags": []
   },
   "outputs": [],
   "source": [
    "from sklearn.model_selection import train_test_split\n",
    "X_train,x_test,y_train,y_test=train_test_split(X,y,test_size=0.25,random_state=42)"
   ]
  },
  {
   "cell_type": "markdown",
   "id": "floral-integrity",
   "metadata": {
    "papermill": {
     "duration": 0.068901,
     "end_time": "2021-04-05T10:31:08.626688",
     "exception": false,
     "start_time": "2021-04-05T10:31:08.557787",
     "status": "completed"
    },
    "tags": []
   },
   "source": [
    "## Model Training"
   ]
  },
  {
   "cell_type": "code",
   "execution_count": 37,
   "id": "excited-activity",
   "metadata": {
    "execution": {
     "iopub.execute_input": "2021-04-05T10:31:08.776991Z",
     "iopub.status.busy": "2021-04-05T10:31:08.775864Z",
     "iopub.status.idle": "2021-04-05T10:31:08.779245Z",
     "shell.execute_reply": "2021-04-05T10:31:08.778579Z"
    },
    "papermill": {
     "duration": 0.084041,
     "end_time": "2021-04-05T10:31:08.779422",
     "exception": false,
     "start_time": "2021-04-05T10:31:08.695381",
     "status": "completed"
    },
    "tags": []
   },
   "outputs": [],
   "source": [
    "# classify function\n",
    "from sklearn.metrics import confusion_matrix\n",
    "from sklearn.model_selection import cross_val_score\n",
    "def classify(model,x,y):\n",
    "    x_train,x_test,y_train,y_test=train_test_split(x,y,test_size=0.25,random_state=42)\n",
    "    model.fit(x_train,y_train)\n",
    "    print(\"Accuracy is \", model.score(x_test,y_test)*100)\n",
    "    score=cross_val_score(model,x,y,cv=5)\n",
    "    print(\"Cross validation is ,\" ,np.mean(score)*100)\n",
    "    y_pred=model.predict(x_test)\n",
    "    confusionmatrix(y_pred,y_test)\n",
    "def confusionmatrix(y_pred,y_test):\n",
    "    cm=confusion_matrix(y_test,y_pred)\n",
    "    print(cm)\n",
    "    sns.heatmap(cm,annot=True)"
   ]
  },
  {
   "cell_type": "code",
   "execution_count": 38,
   "id": "interracial-craps",
   "metadata": {
    "execution": {
     "iopub.execute_input": "2021-04-05T10:31:08.917716Z",
     "iopub.status.busy": "2021-04-05T10:31:08.916736Z",
     "iopub.status.idle": "2021-04-05T10:31:09.483147Z",
     "shell.execute_reply": "2021-04-05T10:31:09.483938Z"
    },
    "papermill": {
     "duration": 0.6372,
     "end_time": "2021-04-05T10:31:09.484146",
     "exception": false,
     "start_time": "2021-04-05T10:31:08.846946",
     "status": "completed"
    },
    "tags": []
   },
   "outputs": [
    {
     "name": "stdout",
     "output_type": "stream",
     "text": [
      "Accuracy is  77.27272727272727\n",
      "Cross validation is , 80.78368652538984\n",
      "[[21 33]\n",
      " [ 2 98]]\n"
     ]
    },
    {
     "name": "stderr",
     "output_type": "stream",
     "text": [
      "/opt/conda/lib/python3.7/site-packages/sklearn/linear_model/_logistic.py:765: ConvergenceWarning: lbfgs failed to converge (status=1):\n",
      "STOP: TOTAL NO. of ITERATIONS REACHED LIMIT.\n",
      "\n",
      "Increase the number of iterations (max_iter) or scale the data as shown in:\n",
      "    https://scikit-learn.org/stable/modules/preprocessing.html\n",
      "Please also refer to the documentation for alternative solver options:\n",
      "    https://scikit-learn.org/stable/modules/linear_model.html#logistic-regression\n",
      "  extra_warning_msg=_LOGISTIC_SOLVER_CONVERGENCE_MSG)\n",
      "/opt/conda/lib/python3.7/site-packages/sklearn/linear_model/_logistic.py:765: ConvergenceWarning: lbfgs failed to converge (status=1):\n",
      "STOP: TOTAL NO. of ITERATIONS REACHED LIMIT.\n",
      "\n",
      "Increase the number of iterations (max_iter) or scale the data as shown in:\n",
      "    https://scikit-learn.org/stable/modules/preprocessing.html\n",
      "Please also refer to the documentation for alternative solver options:\n",
      "    https://scikit-learn.org/stable/modules/linear_model.html#logistic-regression\n",
      "  extra_warning_msg=_LOGISTIC_SOLVER_CONVERGENCE_MSG)\n"
     ]
    },
    {
     "data": {
      "image/png": "[encoded data removed]",
      "text/plain": [
       "<Figure size 432x288 with 2 Axes>"
      ]
     },
     "metadata": {
      "needs_background": "light"
     },
     "output_type": "display_data"
    }
   ],
   "source": [
    "from sklearn.linear_model import LogisticRegression\n",
    "model = LogisticRegression()\n",
    "classify(model,X,y)"
   ]
  },
  {
   "cell_type": "code",
   "execution_count": 39,
   "id": "international-remove",
   "metadata": {
    "execution": {
     "iopub.execute_input": "2021-04-05T10:31:09.630997Z",
     "iopub.status.busy": "2021-04-05T10:31:09.630212Z",
     "iopub.status.idle": "2021-04-05T10:31:10.083775Z",
     "shell.execute_reply": "2021-04-05T10:31:10.084664Z"
    },
    "papermill": {
     "duration": 0.530955,
     "end_time": "2021-04-05T10:31:10.084931",
     "exception": false,
     "start_time": "2021-04-05T10:31:09.553976",
     "status": "completed"
    },
    "tags": []
   },
   "outputs": [
    {
     "name": "stdout",
     "output_type": "stream",
     "text": [
      "Accuracy is  66.23376623376623\n",
      "Cross validation is , 70.03465280554445\n",
      "[[24 30]\n",
      " [22 78]]\n"
     ]
    },
    {
     "data": {
      "image/png": "[encoded data removed]",
      "text/plain": [
       "<Figure size 432x288 with 2 Axes>"
      ]
     },
     "metadata": {
      "needs_background": "light"
     },
     "output_type": "display_data"
    }
   ],
   "source": [
    "from sklearn.tree import DecisionTreeClassifier\n",
    "model = DecisionTreeClassifier()\n",
    "classify(model,X,y)"
   ]
  },
  {
   "cell_type": "code",
   "execution_count": 40,
   "id": "expanded-expert",
   "metadata": {
    "execution": {
     "iopub.execute_input": "2021-04-05T10:31:10.257946Z",
     "iopub.status.busy": "2021-04-05T10:31:10.257185Z",
     "iopub.status.idle": "2021-04-05T10:31:12.012880Z",
     "shell.execute_reply": "2021-04-05T10:31:12.013422Z"
    },
    "papermill": {
     "duration": 1.837922,
     "end_time": "2021-04-05T10:31:12.013621",
     "exception": false,
     "start_time": "2021-04-05T10:31:10.175699",
     "status": "completed"
    },
    "tags": []
   },
   "outputs": [
    {
     "name": "stdout",
     "output_type": "stream",
     "text": [
      "Accuracy is  74.67532467532467\n",
      "Cross validation is , 79.156337465014\n",
      "[[23 31]\n",
      " [ 8 92]]\n"
     ]
    },
    {
     "data": {
      "image/png": "[encoded data removed]",
      "text/plain": [
       "<Figure size 432x288 with 2 Axes>"
      ]
     },
     "metadata": {
      "needs_background": "light"
     },
     "output_type": "display_data"
    }
   ],
   "source": [
    "from sklearn.ensemble import RandomForestClassifier,ExtraTreesClassifier\n",
    "model = RandomForestClassifier()\n",
    "classify(model,X,y)"
   ]
  },
  {
   "cell_type": "code",
   "execution_count": 41,
   "id": "fewer-cricket",
   "metadata": {
    "execution": {
     "iopub.execute_input": "2021-04-05T10:31:12.160737Z",
     "iopub.status.busy": "2021-04-05T10:31:12.159985Z",
     "iopub.status.idle": "2021-04-05T10:31:13.518085Z",
     "shell.execute_reply": "2021-04-05T10:31:13.517473Z"
    },
    "papermill": {
     "duration": 1.433915,
     "end_time": "2021-04-05T10:31:13.518234",
     "exception": false,
     "start_time": "2021-04-05T10:31:12.084319",
     "status": "completed"
    },
    "tags": []
   },
   "outputs": [
    {
     "name": "stdout",
     "output_type": "stream",
     "text": [
      "Accuracy is  74.02597402597402\n",
      "Cross validation is , 76.21884579501533\n",
      "[[24 30]\n",
      " [10 90]]\n"
     ]
    },
    {
     "data": {
      "image/png": "[encoded data removed]",
      "text/plain": [
       "<Figure size 432x288 with 2 Axes>"
      ]
     },
     "metadata": {
      "needs_background": "light"
     },
     "output_type": "display_data"
    }
   ],
   "source": [
    "model = ExtraTreesClassifier()\n",
    "classify(model,X,y)"
   ]
  },
  {
   "cell_type": "markdown",
   "id": "minimal-fault",
   "metadata": {
    "papermill": {
     "duration": 0.072982,
     "end_time": "2021-04-05T10:31:13.666579",
     "exception": false,
     "start_time": "2021-04-05T10:31:13.593597",
     "status": "completed"
    },
    "tags": []
   },
   "source": [
    "## Hyperparameter Tuning"
   ]
  },
  {
   "cell_type": "code",
   "execution_count": 42,
   "id": "filled-promise",
   "metadata": {
    "execution": {
     "iopub.execute_input": "2021-04-05T10:31:13.849463Z",
     "iopub.status.busy": "2021-04-05T10:31:13.828132Z",
     "iopub.status.idle": "2021-04-05T10:31:15.560680Z",
     "shell.execute_reply": "2021-04-05T10:31:15.560058Z"
    },
    "papermill": {
     "duration": 1.82004,
     "end_time": "2021-04-05T10:31:15.560841",
     "exception": false,
     "start_time": "2021-04-05T10:31:13.740801",
     "status": "completed"
    },
    "tags": []
   },
   "outputs": [
    {
     "name": "stdout",
     "output_type": "stream",
     "text": [
      "Accuracy is  77.27272727272727\n",
      "Cross validation is , 80.78368652538984\n",
      "[[21 33]\n",
      " [ 2 98]]\n"
     ]
    },
    {
     "data": {
      "image/png": "[encoded data removed]",
      "text/plain": [
       "<Figure size 432x288 with 2 Axes>"
      ]
     },
     "metadata": {
      "needs_background": "light"
     },
     "output_type": "display_data"
    }
   ],
   "source": [
    "model = RandomForestClassifier(n_estimators=100,min_samples_split=25, max_depth=7,max_features=1)\n",
    "classify(model, X,y)"
   ]
  },
  {
   "cell_type": "code",
   "execution_count": null,
   "id": "wrong-enforcement",
   "metadata": {
    "papermill": {
     "duration": 0.079607,
     "end_time": "2021-04-05T10:31:15.720135",
     "exception": false,
     "start_time": "2021-04-05T10:31:15.640528",
     "status": "completed"
    },
    "tags": []
   },
   "outputs": [],
   "source": []
  }
 ],
 "metadata": {
  "kernelspec": {
   "display_name": "Python 3",
   "language": "python",
   "name": "python3"
  },
  "language_info": {
   "codemirror_mode": {
    "name": "ipython",
    "version": 3
   },
   "file_extension": ".py",
   "mimetype": "text/x-python",
   "name": "python",
   "nbconvert_exporter": "python",
   "pygments_lexer": "ipython3",
   "version": "3.7.9"
  },
  "papermill": {
   "default_parameters": {},
   "duration": 26.354514,
   "end_time": "2021-04-05T10:31:16.909862",
   "environment_variables": {},
   "exception": null,
   "input_path": "__notebook__.ipynb",
   "output_path": "__notebook__.ipynb",
   "parameters": {},
   "start_time": "2021-04-05T10:30:50.555348",
   "version": "2.3.2"
  }
 },
 "nbformat": 4,
 "nbformat_minor": 5
}
